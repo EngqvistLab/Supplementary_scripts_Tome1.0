{
 "cells": [
  {
   "cell_type": "code",
   "execution_count": 1,
   "metadata": {},
   "outputs": [],
   "source": [
    "import numpy as np\n",
    "import os\n",
    "from sklearn.externals import joblib\n",
    "import pandas as pd\n",
    "from Bio import SeqIO\n",
    "import pandas as pd\n",
    "from Bio.Alphabet import IUPAC"
   ]
  },
  {
   "cell_type": "code",
   "execution_count": 2,
   "metadata": {},
   "outputs": [],
   "source": [
    "ogt_file = '../Brenda_Annotation/2_unid_growth_temp_mapping.tsv'\n",
    "seq_file = '../BrendaData_20180109/brenda_seqeunces_20180109.fasta'"
   ]
  },
  {
   "cell_type": "code",
   "execution_count": 3,
   "metadata": {},
   "outputs": [],
   "source": [
    "# load ogt\n",
    "dfogt = pd.read_csv(ogt_file,sep='\\t')\n",
    "ogts = dict()\n",
    "for ind in dfogt.index: ogts[dfogt.loc[ind,'uniprot_id']] = dfogt.loc[ind,'growth_temp']"
   ]
  },
  {
   "cell_type": "code",
   "execution_count": 4,
   "metadata": {},
   "outputs": [],
   "source": [
    "# 2. extract kmer features\n",
    "def get_kmer_fq(seq):\n",
    "    fea = dict()\n",
    "    seq = seq.upper()\n",
    "    aas = IUPAC.IUPACProtein.letters\n",
    "    count = dict()\n",
    "\n",
    "    for a in aas: count[a] = 0\n",
    "    for a in seq: \n",
    "        try: count[a] += 1\n",
    "        except: None\n",
    "    \n",
    "    L = sum(count.values())\n",
    "    L = float(L)\n",
    "    for a,v in count.items(): fea[a] = v/L\n",
    "    return fea"
   ]
  },
  {
   "cell_type": "code",
   "execution_count": 5,
   "metadata": {},
   "outputs": [
    {
     "name": "stdout",
     "output_type": "stream",
     "text": [
      "100000\n",
      "200000\n",
      "300000\n",
      "400000\n",
      "500000\n",
      "600000\n",
      "700000\n",
      "800000\n",
      "900000\n",
      "1000000\n",
      "1100000\n",
      "1200000\n",
      "1300000\n",
      "1400000\n",
      "1500000\n",
      "1600000\n",
      "1700000\n",
      "1800000\n",
      "1900000\n",
      "2000000\n",
      "2100000\n",
      "2200000\n",
      "2300000\n",
      "2400000\n",
      "2500000\n",
      "2600000\n",
      "2700000\n",
      "2800000\n",
      "2900000\n",
      "3000000\n",
      "3100000\n",
      "3200000\n",
      "3300000\n",
      "3400000\n",
      "3500000\n",
      "3600000\n",
      "3700000\n",
      "3800000\n",
      "3900000\n",
      "4000000\n",
      "4100000\n",
      "4200000\n",
      "4300000\n",
      "4400000\n",
      "4500000\n",
      "4600000\n",
      "4700000\n",
      "4800000\n",
      "4900000\n",
      "5000000\n",
      "5100000\n",
      "5200000\n",
      "5300000\n",
      "5400000\n",
      "5500000\n",
      "5600000\n",
      "5700000\n",
      "5800000\n",
      "5900000\n",
      "6000000\n",
      "6100000\n",
      "6200000\n",
      "(6270107, 21)\n"
     ]
    }
   ],
   "source": [
    "data = list()\n",
    "uni_ids = list()\n",
    "\n",
    "aas = list(IUPAC.IUPACProtein.letters)\n",
    "num = 1\n",
    "for rec in SeqIO.parse(seq_file,'fasta'):\n",
    "    uni = rec.id\n",
    "    ogt = ogts.get(uni,None)\n",
    "    \n",
    "    if ogt is None: continue\n",
    "    \n",
    "    uni_ids.append(uni)\n",
    "    seq = str(rec.seq)\n",
    "    fq = get_kmer_fq(seq)\n",
    "    \n",
    "    x = [fq[a] for a in aas]\n",
    "    x.append(ogt)\n",
    "    data.append(x)\n",
    "    num += 1\n",
    "    if num%100000 == 0: print num\n",
    "data = np.array(data)\n",
    "df = pd.DataFrame(data=data,index=uni_ids,columns=aas+['OGT'])\n",
    "print data.shape"
   ]
  },
  {
   "cell_type": "code",
   "execution_count": 6,
   "metadata": {},
   "outputs": [
    {
     "name": "stderr",
     "output_type": "stream",
     "text": [
      "/c3se/users/gangl/Hebbe/Tools/my_python_new/lib/python2.7/site-packages/sklearn/ensemble/weight_boosting.py:29: DeprecationWarning: numpy.core.umath_tests is an internal NumPy module and should not be imported. It will be removed in a future NumPy release.\n",
      "  from numpy.core.umath_tests import inner1d\n"
     ]
    }
   ],
   "source": [
    "# 1. load the trained model for prediction\n",
    "predictor='../model_v3/predictor/Topt_RF.pkl'\n",
    "model=joblib.load(predictor)\n",
    "\n",
    "def get_means_vars(predictor):\n",
    "    means=dict()\n",
    "    vs=dict()\n",
    "    features=list()\n",
    "    for line in open(predictor.replace('pkl','f'),'r'):\n",
    "        if line.startswith('#'):continue\n",
    "        cont=line.split()\n",
    "        means[cont[0]]=float(cont[1])\n",
    "        vs[cont[0]]=float(cont[2])\n",
    "        features.append(cont[0])\n",
    "    return means,vs,features\n",
    "\n",
    "means,vs,features=get_means_vars(predictor)"
   ]
  },
  {
   "cell_type": "code",
   "execution_count": 7,
   "metadata": {},
   "outputs": [
    {
     "name": "stdout",
     "output_type": "stream",
     "text": [
      "0\n",
      "1\n",
      "2\n",
      "3\n",
      "4\n",
      "5\n",
      "6\n",
      "7\n",
      "8\n",
      "9\n",
      "10\n",
      "11\n",
      "12\n",
      "13\n",
      "14\n",
      "15\n",
      "16\n",
      "17\n",
      "18\n",
      "19\n",
      "20\n"
     ]
    }
   ],
   "source": [
    "# 2. do norm\n",
    "dfnew = df[features]\n",
    "X = dfnew.values\n",
    "for i in range(len(features)):\n",
    "    print i\n",
    "    fea = features[i]\n",
    "    X[:,i] = (X[:,i]-means[fea])/vs[fea]\n",
    "\n",
    "# Predict\n",
    "Ypre = model.predict(X)"
   ]
  },
  {
   "cell_type": "code",
   "execution_count": 8,
   "metadata": {},
   "outputs": [],
   "source": [
    "# save predicted results\n",
    "outfile = '../Brenda_Annotation/predicted_topt.tsv'\n",
    "fhand = open(outfile,'w')\n",
    "fhand.write('ID\\tOGT\\tTopt\\n')\n",
    "for i in range(X.shape[0]): fhand.write('{0}\\t{1}\\t{2}\\n'.format(dfnew.index[i],df['OGT'][i],Ypre[i]))\n",
    "fhand.close()"
   ]
  },
  {
   "cell_type": "code",
   "execution_count": null,
   "metadata": {},
   "outputs": [],
   "source": []
  },
  {
   "cell_type": "code",
   "execution_count": null,
   "metadata": {},
   "outputs": [],
   "source": []
  }
 ],
 "metadata": {
  "kernelspec": {
   "display_name": "Python 2",
   "language": "python",
   "name": "python2"
  },
  "language_info": {
   "codemirror_mode": {
    "name": "ipython",
    "version": 2
   },
   "file_extension": ".py",
   "mimetype": "text/x-python",
   "name": "python",
   "nbconvert_exporter": "python",
   "pygments_lexer": "ipython2",
   "version": "2.7.14"
  }
 },
 "nbformat": 4,
 "nbformat_minor": 2
}
